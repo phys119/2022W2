{
 "cells": [
  {
   "cell_type": "markdown",
   "id": "979e74b5-54a2-441e-b6a6-0ed8c03cfc9e",
   "metadata": {},
   "source": [
    "# Welcome to the Prelab Activity for Lab 03"
   ]
  },
  {
   "cell_type": "code",
   "execution_count": null,
   "id": "68923138-2349-46e2-b557-1005d791992f",
   "metadata": {},
   "outputs": [],
   "source": [
    "import numpy as np\n",
    "import data_entry"
   ]
  },
  {
   "cell_type": "markdown",
   "id": "cf97960f-c569-498a-9171-97dac3516d10",
   "metadata": {},
   "source": [
    "This week's prelab has four main components: \n",
    "\n",
    "1. A review/introduction of the physics behind our Lab 03 experiment, single-slit diffraction from a human hair, \n",
    "2. A guided tutorial to help you build the analysis spreadsheet you will be using for the lab,\n",
    "3. An opportunity to collect and analyze some test data using the simulation, and \n",
    "4. An opportunity to prepare your lab notebook."
   ]
  },
  {
   "cell_type": "markdown",
   "id": "99991980-5d78-4549-8c88-5054fd5dfea8",
   "metadata": {
    "tags": []
   },
   "source": [
    "## Part 1. Review of Diffraction -- The basics on diffraction needed for the lab"
   ]
  },
  {
   "cell_type": "markdown",
   "id": "ee75d065-f7ed-4dd3-a255-5c664aaa9fe2",
   "metadata": {},
   "source": [
    "If you have not already done so, please read the **\"Lab 03 Prelab, Part 1 - The Physics of Single Slit Diffraction\"** document on Canvas."
   ]
  },
  {
   "cell_type": "markdown",
   "id": "6c50f0fa-7d3e-4909-a7d2-b0aad2161e29",
   "metadata": {
    "tags": []
   },
   "source": [
    "## Part 2. Preparing your analysis spreadsheet"
   ]
  },
  {
   "cell_type": "markdown",
   "id": "7d260a53-7de7-4b53-80d1-ddce88764d4d",
   "metadata": {},
   "source": [
    "**Spreadsheet and Python skills:** This next portion of the prelab walks you through the construction of the spreadsheet and subsequent analysis, which contains some rather nasty uncertainty formulas."
   ]
  },
  {
   "cell_type": "markdown",
   "id": "601f5a3b-3002-44ef-80c2-967639e070f6",
   "metadata": {
    "tags": []
   },
   "source": [
    "### Introducing the Hypothetical Data; Building your spreadsheet headers"
   ]
  },
  {
   "cell_type": "markdown",
   "id": "6556edb4-1315-4ce7-8f10-7c4e6c1e070f",
   "metadata": {},
   "source": [
    "Let's build your analysis spreadsheet for this lab using an example set of data.\n",
    "\n",
    "*Hypothetical example diffraction data:* The methods described below are for a similar but slightly different experiment. _Do not_ assume that your uncertainties should be the same as these values. These values are for illustration purposes only.\n",
    "\n",
    "<img src = \"https://lh5.googleusercontent.com/HEzh8QL1Qdl3XJHoEPduTG5Ldv7ImuqgsbxpTDjKpctXYZF-SIBIdqzTLPxnertXRMC1LNwfYzTv1m0YDIjEeLfLAk1-t4imVXrdCbKssocpsDh70Jj57NwPZ9OIRwW_sivOOpNr7iTT7Ov-Qf_GDss\" alt = \"diffraction pattern\">\n",
    "\n",
    "- We shine a blue laser ($\\lambda = 473 \\mbox{nm}$) onto a strand of cashmere (fine wool from the undercoat of a goat).\n",
    "- We measure the distance from the hair to the screen to be $L = 0.8130 m$.\n",
    "- In this hypothetical experiment, we found it a bit awkward to line up the ruler correctly. Thus we have some difficulty in measuring our distance $L$ and estimate a 6-mm width for our 95% Confidence Interval on this length measurement. Thus our uncertainty in this length is $u[L] = 6\\mbox{mm}/4 = 1.5\\mbox{mm}$. We write the distance $L = 0.8130 \\pm 0.0015 \\mbox{m}$.\n",
    "- We locate the first dark spot (marked $p = 1$) at a distance $y_1 = 1.95 \\mbox{cm}$ to the left of the central bright fringe.\n",
    "- Because of the difficulty of locating the precise middle of the central bright fringe and the difficulty of locating the precise middle of the first dark spot, we estimate a 5-mm width for our 95% confidence interval and an uncertainty of $u[y_1] = 5\\mbox{mm}/4 = 1.25\\mbox{mm} = 1.3\\mbox{mm}$.\n",
    "\n",
    "Again, these uncertainties are not meant to align with reasonable uncertainties for this experiment. You should ***make your own informed estimates*** of the uncertainties during the lab."
   ]
  },
  {
   "cell_type": "markdown",
   "id": "63758f53-a4c5-4c5e-9c11-0e699f387507",
   "metadata": {},
   "source": [
    "\n",
    "\n",
    "The table below contains some suggested column headings with the associated units when you create your spreadsheet\n",
    "\n",
    "| p    | L | u[L] | y | u[y] | lambda | $notes |\n",
    "|:----:|:-:|:----:|:-:|:----:|:------:|:----:|\n",
    "| null | m | m    | m | m    | m      |      |\n",
    "\n",
    "**Your turn #1:** Use the 'data_entry' library in the code cell below to load in a blank spreadsheet. Call it \"prelab03_1\". \n",
    "\n",
    "* After using \"Add Column\" to ensure you have a sufficient number of columns, you can copy and paste the content of the table above directly into your spreadsheet, but be warned pasting works a bit differently here than what you are used to. It works best if you copy one row at a time, so highlight the first row of the table above and use the keyboard shortcut for copy (Ctrl + C on a PC, Command + C on a Mac). You can then select the \"Variable\" row of your spreadsheet (or just the top-left cell) and then repeatedly use the keyboard shortcut for paste (Ctrl + V on a PC, Command + V on a Mac) to paste the data into your spreadsheet one cell at a time. Each \"paste\" will paste in one more value, so you'll need to press it seven times to complete the row. You can repeat this process for the \"Units\" row. \n",
    "* Recall from Lab 02 that the dollar sign in front of 'notes' tells the \"Generate Vectors\" step to skip this column when generating vectors, since we will use this column to number our data collection trials, as well as add which side of the diffraction pattern we are measuring."
   ]
  },
  {
   "cell_type": "code",
   "execution_count": null,
   "id": "9c207b4b-1b34-4fc1-9d68-06a6610b0e04",
   "metadata": {},
   "outputs": [],
   "source": [
    "# Run me to create a new spreadsheet, autosaved as prelab03_1.csv\n",
    "de = data_entry.sheet(\"prelab03_1\")"
   ]
  },
  {
   "cell_type": "markdown",
   "id": "c5c548cf-4b66-4d63-9ce7-7d2f15a235a0",
   "metadata": {
    "tags": []
   },
   "source": [
    "### Entering values using scientific notation"
   ]
  },
  {
   "cell_type": "markdown",
   "id": "dee46b2c-66b2-4462-b391-630221e20736",
   "metadata": {},
   "source": [
    "***The numbers provided here are intended to be realistic numbers for the physical setup using a hair that is much thicker than human hair. They are intended as examples only and are not intended to correspond to values for the real experiment.***\n",
    "\n",
    "You will make your life quite a bit easier in the lab if you use scientific notation when entering the majority of the values being used in calculations for this lab and prelab. \n",
    "\n",
    "The wavelength of the laser in our hypothetical data set is $473 \\mbox{nm}$, which can also be written as $473 \\times 10^{-9} \\mbox{m}$ or $4.73 \\times 10^{-7} \\mbox{m}$. To enter very small values like this, you can use scientific notation directly in the spreadsheet. For instance, if we want to convert 473 nm to m, since we know one nanometre is $10^{-9}$ metres, we can type '473e-9'. Python will interpret this as $473\\times 10^{-9}$ and do this conversion automatically. Enter this now!\n",
    "\n",
    "*Note: The relative uncertainty on the wavelength of the laser is negligibly small as compared to the relative uncertainties of our other measurements, thus we are able to ignore it in our uncertainty propagations and will simply treat wavelength as an exact value.*"
   ]
  },
  {
   "cell_type": "markdown",
   "id": "2a15e023-787f-4298-baea-4b403ec430c1",
   "metadata": {},
   "source": [
    "**Your turn #2:**\n",
    "* Using the Hypothetical Data discussed earlier in this prelab, practice using scientific notation by entering in the spreadsheet above the values for y and L (and their uncertainties) using scientific notation.\n",
    "* In the '$notes' column enter 'trial 1, left side' since this is our first round of data collection and we are measuring the distance to the diffraction minimum on the left-hand side of the central bright fringe."
   ]
  },
  {
   "cell_type": "markdown",
   "id": "32ff426e-13b1-4d8c-8256-a01d43412209",
   "metadata": {
    "tags": []
   },
   "source": [
    "### Implementing the equations for $a$, $u[a]$, $z$, $u[z]$."
   ]
  },
  {
   "cell_type": "markdown",
   "id": "f89414f7-e874-4014-9d91-f60c92e9b8de",
   "metadata": {},
   "source": [
    "After ensuring all columns are filled in for row 0 (your first \"trial\" in this prelab), press \"Generate Vectors\" to convert these spreadsheet data to Python vectors (since we have only one row of data, each vector will only have one element). We will now use these generated vectors to make our intermediate calculation of $z$ and $u[z]$, and then finally $a$ and $u[a]$.\n",
    "\n",
    "In the Physics of Single-Slit Diffraction document, we learned that the hair thickness can be calculated using the formula $a = p\\lambda\\sqrt{1 + z^2}$ when we make the substitution $z = L/y$. Recall that this substitution was being done to simplify the expressions used for later calculations of the hair thickness $(a)$ and its uncertainty $(u[a])$. Additionally, you can find all of the important derived equations summarized in the Prelab 03 summary document in the Lab 03 module on Canvas.\n",
    "\n",
    "Since $z$ is calculated using a quotient, the uncertainty expression is straightforward (refer to the [Overview of uncertainty propagation](https://docs.google.com/document/d/e/2PACX-1vRHWdf9sHcE5Pt4_4B_Ss7AGJIfqSEqvdVxf6mEBTsiOm40VlRS8vLewAZM0fY1uEP7W7XdZuM54Cly/pub)):\n",
    "\n",
    "$$u[z] = z \\sqrt{\\left(\\frac{u[L]}{L}\\right)^2 + \\left(\\frac{u[y]}{y}\\right)^2}$$"
   ]
  },
  {
   "cell_type": "markdown",
   "id": "e93e9040-a061-4edb-856f-b0b8f6ff3bf8",
   "metadata": {},
   "source": [
    "**Your turn #3:** In the code cell below, define new variables 'zVec' and 'uzVec' which calculate $z$ and $u[z]$, respectively, using the generated vectors."
   ]
  },
  {
   "cell_type": "code",
   "execution_count": null,
   "id": "381da504-b19c-473b-b3ce-394d26017852",
   "metadata": {},
   "outputs": [],
   "source": [
    "# Use this cell to define zVec and uzVec\n",
    "\n"
   ]
  },
  {
   "cell_type": "markdown",
   "id": "8a2b4cc1-eac5-4222-aae9-e501af4ec84c",
   "metadata": {},
   "source": [
    "We can now calculate the thickness of the hair using our expression\n",
    "\n",
    "$$a = p\\lambda\\sqrt{1 + z^2}$$"
   ]
  },
  {
   "cell_type": "markdown",
   "id": "543efe0e-6601-475d-8d7b-d175693b3484",
   "metadata": {},
   "source": [
    "**Your turn #4:** Do this now in the code cell below and print out the results. If all went well, you should get $1.97261332 \\times 10^{-5} \\mbox{m}$ (approximately 19.7 micrometres)."
   ]
  },
  {
   "cell_type": "code",
   "execution_count": null,
   "id": "7e511c40-c11a-4c62-a638-952f20edcb0d",
   "metadata": {},
   "outputs": [],
   "source": [
    "# Use this cell to define aVec and print the result\n",
    "\n"
   ]
  },
  {
   "cell_type": "markdown",
   "id": "027b4375-096f-4543-8042-9696b2872067",
   "metadata": {},
   "source": [
    "You can now calculate the uncertainty in $a$ using the following equation derived in the review of diffraction:\n",
    "\n",
    "$$u[a] = \\frac{p\\lambda \\cdot u[z] \\cdot z}{\\sqrt{1+z^2}}$$"
   ]
  },
  {
   "cell_type": "markdown",
   "id": "44dbc33c-339f-469c-976e-9d26cd5b98bd",
   "metadata": {},
   "source": [
    "**Your turn #5:** Calculate this below and print out the results. The result should be $1.31482267 \\times 10^`{-6} \\mbox{m}$."
   ]
  },
  {
   "cell_type": "code",
   "execution_count": null,
   "id": "67d758dc-366b-47af-ab84-a6575f1de730",
   "metadata": {},
   "outputs": [],
   "source": [
    "# Use this cell to define uaVec and print the result\n",
    "\n"
   ]
  },
  {
   "cell_type": "markdown",
   "id": "a422d862-50c7-4be0-b3e8-d70d24e0e20d",
   "metadata": {
    "tags": []
   },
   "source": [
    "### Repeating Calculations"
   ]
  },
  {
   "cell_type": "markdown",
   "id": "54ab34dd-1abb-4c18-aa67-24980492e6f3",
   "metadata": {},
   "source": [
    "In the Lab 02 prelab, we introduced the 'sheet_copy' function to copy a spreadsheet. This week we will do this so that we can have a new spreadsheet with our original data and any new data, while keeping a copy that just has our original data. Recall that the first time you use this function it copies the spreadsheet to a new name. If you run the cell again, it will just use the new spreadsheet and will not copy the old one again."
   ]
  },
  {
   "cell_type": "code",
   "execution_count": null,
   "id": "5a383f03-b88e-4411-866a-280afc504ea1",
   "metadata": {},
   "outputs": [],
   "source": [
    "# Run me to copy your \"prelab03_1\" spreadsheet to \"prelab03_2\"\n",
    "de2 = data_entry.sheet_copy(\"prelab03_1\", \"prelab03_2\")"
   ]
  },
  {
   "cell_type": "markdown",
   "id": "09e3549e-7407-40e2-a899-d5d124290c40",
   "metadata": {},
   "source": [
    "**Your turn #6:**\n",
    "* Let's add a new row of data to spreadsheet prelab03_2. Let's add to our hypothetical data a second dark spot, marked $p = 2$, at a distance of $y_2 = 3.95 \\mbox{cm}$ to the left of the central bright fringe. You can assume $L$, $u[L]$ and $u[y]$ are unchanged from trial 1. The initial data should remain in row 0, so add these Trial 2 data to row 1. Under notes for these new data, enter 'trial 2; left side'.\n",
    "* Press \"Generate Vectors\". "
   ]
  },
  {
   "cell_type": "markdown",
   "id": "69927870-d7fb-416c-b577-e47de4779152",
   "metadata": {},
   "source": [
    "**Your turn #7:** You can then copy your analysis code from above into a single code cell below and re-run everything. This should give you two-element vectors for each calculated variable, i.e. $z$, $u[z]$, $a$, and $u[a]$, with the first element corresponding to trial 1 and the second element corresponding to trial 2. If you entered everything correctly, you should find $a = (1.949 \\pm 0.064) \\times 10^{-5} \\mbox{m}$, or $19.49 \\pm 0.64$ micrometres ($\\mu m$), for trial 2."
   ]
  },
  {
   "cell_type": "code",
   "execution_count": null,
   "id": "50de2fac-f338-4343-8d6a-d41608de4c89",
   "metadata": {},
   "outputs": [],
   "source": [
    "# Copy the relevant analysis code from earlier into this cell to find a and u[a] for trials 1 and 2\n",
    "# Don't forget to recalculate z and u[z] here as well\n",
    "\n"
   ]
  },
  {
   "cell_type": "markdown",
   "id": "e4c0f1c3-88fa-498f-a3af-d3928989fe0d",
   "metadata": {},
   "source": [
    "### Using numpy functions `sum` and `mean`"
   ]
  },
  {
   "cell_type": "markdown",
   "id": "b9a833bb-8279-4ca6-a653-6edbb6fcea3c",
   "metadata": {},
   "source": [
    "Once we have multiple trials or multiple measurements of the same quantity, we will sometimes want to do calculations that combine all of those quantities, such as find an average or sum of these quantities. \n",
    "\n",
    "Work through the cells below to learn a number of different ways that we could take the average of our two quantities stored in `aVec`"
   ]
  },
  {
   "cell_type": "code",
   "execution_count": null,
   "id": "33787f7a-2f9a-45f7-b157-6e41dd02ddda",
   "metadata": {},
   "outputs": [],
   "source": [
    "# Run me to see the average of aVec[0] and aVec[1]\n",
    "# If you didn't know any specific new numpy functions, you could simply use (a1 + a2)/2\n",
    "\n",
    "print( (aVec[0]+aVec[1])/2 )"
   ]
  },
  {
   "cell_type": "code",
   "execution_count": null,
   "id": "38ca476b-3da1-475d-a920-351790878176",
   "metadata": {},
   "outputs": [],
   "source": [
    "# Run me to repeat the operation above, but using np.sum() to sum all the elements in aVec\n",
    "\n",
    "print( np.sum(aVec)/2 )"
   ]
  },
  {
   "cell_type": "markdown",
   "id": "e5e76562-7414-4c76-ba72-aae77921595f",
   "metadata": {},
   "source": [
    "**Your turn #8:** Try doing the above using the numpy function `np.mean()`, which calculates the average directly"
   ]
  },
  {
   "cell_type": "code",
   "execution_count": null,
   "id": "eb934a5b-adeb-4604-86b6-95d2e5d1f163",
   "metadata": {},
   "outputs": [],
   "source": [
    "# Use this cell to calculate the average aVec value using np.mean()\n",
    "\n"
   ]
  },
  {
   "cell_type": "markdown",
   "id": "10dbcd03-12cb-4534-bfd9-61bff08c6277",
   "metadata": {
    "tags": []
   },
   "source": [
    "### Ignoring data in spreadsheets"
   ]
  },
  {
   "cell_type": "markdown",
   "id": "1baf9f52-0011-4d71-9d93-a827f521e687",
   "metadata": {},
   "source": [
    "In this course we encourage you to keep a running record of your data collection strategies and the data itself, even if you make a mistake! For instance, you may complete a measurement accidentally using one of the non-central *bright* fringes instead of a dark spot for $y$. If this were the case, this data would be likely entered into your spreadsheet and analyzed before you realized this mistake. \n",
    "\n",
    "Since you do not wish to include this data in your analysis, but you want to keep the data in your spreadsheet as part of the running log of what you've done, you can tell Python to \"ignore\" this data by commenting out the row using a hash ('#'). If the hash is placed in front of the value in any spreadsheet cell of a given row, Python will skip *the entire row* when you press \"Generate Vectors\"."
   ]
  },
  {
   "cell_type": "markdown",
   "id": "75712a92-a4b4-47f7-9df8-b8741592836a",
   "metadata": {},
   "source": [
    "**Your turn #9:** Try this out now. In the $p$ column, replace the row 0 value of '1' with '#1' and press \"Generate Vectors\". You should see the output statement 'Row # 0 skipped'. If you now re-run your analysis code below the spreadsheet, you should only see results from row 1 (trial 2)."
   ]
  },
  {
   "cell_type": "markdown",
   "id": "0c1bd58e-a816-4264-bf42-9e6f3ae3abd0",
   "metadata": {
    "tags": []
   },
   "source": [
    "## Part 3. Preparing your lab notebook"
   ]
  },
  {
   "cell_type": "markdown",
   "id": "b1a4937e-b47f-4fa7-81c9-1619359425cf",
   "metadata": {},
   "source": [
    "### Part 3.1: Adding your prelab analysis work to your Lab 03 Lab Notebook Template"
   ]
  },
  {
   "cell_type": "markdown",
   "id": "68ac642d-df8a-4a26-aaed-a52692a03301",
   "metadata": {},
   "source": [
    "Save yourself some valuable in-lab time by copying some of your prelab work into your Lab03.ipynb lab notebook (link of Canvas). You will find some instructions to help you do this in the Part D section of the Lab 03 notebook. It is recommended that after doing this, you run all cells in that notebook to ensure that you have a spreadsheet \"lab03_1\" of the expected format and that your analysis code there correctly calculates $a$ and $u[a]$."
   ]
  },
  {
   "cell_type": "markdown",
   "id": "eec2a23c-a15c-45a0-a1bf-443c0398ad04",
   "metadata": {
    "tags": []
   },
   "source": [
    "### Part 3.2: Reviewing the Lab 03 materials"
   ]
  },
  {
   "cell_type": "markdown",
   "id": "01db78c2-0dec-47e0-b359-12d62486d13a",
   "metadata": {},
   "source": [
    "Spend 5-10 minutes reviewing the Lab 03 Student Instructions to help you develop a sense of how you will be spending your time during this week's lab. You may also find it helpful to review the Lab 03 slides and the rubric found in the Lab 03 submission assignment. Lab 03 is a complicated lab, so spending this additional time reviewing the materials can help you maximize your success."
   ]
  },
  {
   "cell_type": "markdown",
   "id": "c0328863-72a4-4cb0-9c2b-07860622dc5c",
   "metadata": {
    "tags": []
   },
   "source": [
    "## Part 4 (Optional). Using the single-slit diffraction simulation to collect a test round of data (approx. 20 minutes)"
   ]
  },
  {
   "cell_type": "markdown",
   "id": "1ed28be6-b5d1-4188-be1f-39d28874b183",
   "metadata": {},
   "source": [
    "*In the sections above, you will have built an analysis spreadsheet suitable for analysis of the data you will be collecting during the lab. However, if you would like the opportunity to generate your own data and do some additional familiarization ahead of time with how the experiment will work, please use this section to guide you through this work.*\n",
    "\n",
    "Please note that the simulation provides distances in units of pixel \"px\" and the conversion to meters is provided on the simulation. Use 'data_entry.sheet_copy()' to copy your prelab spreadsheet above to a new spreadsheet titled \"lab03_1\". You can either delete or comment out the demo prelab data, before adding a new row for your simulation data.\n",
    "\n",
    "**Your turn #10 (optional):** Complete a measurement and subsequent analysis for hair 1 (and optionally for hair 2) using the simulation. Make sure to calculate the relative uncertainty, $u[a]/a$. During the actual lab, you may use this spreadsheet as a starting point, though your simulation data should be commented out."
   ]
  },
  {
   "cell_type": "code",
   "execution_count": null,
   "id": "47002ecb-4971-438a-a901-d3d8a7d36039",
   "metadata": {},
   "outputs": [],
   "source": [
    "# (optional) Use sheet_copy to make a new spreadsheet \"lab03_1\" here\n",
    "# and collect some data from the simulation\n",
    "\n"
   ]
  },
  {
   "cell_type": "code",
   "execution_count": null,
   "id": "4ebebb6b-1c5b-429d-a5bb-cc6dbea4d583",
   "metadata": {},
   "outputs": [],
   "source": [
    "# (optional) Use this cell to repeat your analysis on these new data\n",
    "\n"
   ]
  },
  {
   "cell_type": "markdown",
   "id": "26c0b504-bf0b-44e9-b87c-bdce9c466657",
   "metadata": {},
   "source": [
    "# Submission\n",
    "As we've done before, rerun your notebook, proof-read, export as HTML and then submit to Canvas"
   ]
  },
  {
   "cell_type": "code",
   "execution_count": null,
   "id": "b272ea1f-9095-4dae-a3d3-786fc77404bf",
   "metadata": {},
   "outputs": [],
   "source": [
    "# The following function will display tables based on the data currently\n",
    "# stored in your data_entry spreadsheets (e.g., de, de2). This is \n",
    "# the only way to have these data show up in the HTML export\n",
    "display_sheets()"
   ]
  }
 ],
 "metadata": {
  "kernelspec": {
   "display_name": "Python 3 (ipykernel)",
   "language": "python",
   "name": "python3"
  },
  "language_info": {
   "codemirror_mode": {
    "name": "ipython",
    "version": 3
   },
   "file_extension": ".py",
   "mimetype": "text/x-python",
   "name": "python",
   "nbconvert_exporter": "python",
   "pygments_lexer": "ipython3",
   "version": "3.10.5"
  },
  "widgets": {
   "application/vnd.jupyter.widget-state+json": {
    "state": {},
    "version_major": 2,
    "version_minor": 0
   }
  }
 },
 "nbformat": 4,
 "nbformat_minor": 5
}
