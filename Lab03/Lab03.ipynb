{
 "cells": [
  {
   "cell_type": "markdown",
   "id": "56f42178-9a69-488d-b8f4-cd63984ccc1d",
   "metadata": {},
   "source": [
    "# Lab 03 - Single-Slit Diffraction"
   ]
  },
  {
   "cell_type": "code",
   "execution_count": null,
   "id": "f290d6b9-10ea-463a-8c71-4df3f8e59b11",
   "metadata": {},
   "outputs": [],
   "source": [
    "# Make sure to run this cell before running any other code cells\n",
    "import numpy as np\n",
    "import data_entry"
   ]
  },
  {
   "cell_type": "markdown",
   "id": "83f3c0e8-fb98-41ef-9283-40ff15721f00",
   "metadata": {},
   "source": [
    "***Edit the following cell to provide the information requested:***"
   ]
  },
  {
   "cell_type": "markdown",
   "id": "136794dc-09f0-4297-b70e-6743a24c909b",
   "metadata": {},
   "source": [
    "- Your name:\n",
    "- Your student number:\n",
    "- Partner's name:"
   ]
  },
  {
   "cell_type": "markdown",
   "id": "457d1616-29cc-434b-8d21-509d67d4d5b9",
   "metadata": {
    "tags": []
   },
   "source": [
    "## Part A - Grading feedback, review of lab 03, overview of the day [0h00-0h10]"
   ]
  },
  {
   "cell_type": "markdown",
   "id": "ae63767a-6cf0-4b33-9ded-6340a5feba25",
   "metadata": {},
   "source": [
    "- Example notes"
   ]
  },
  {
   "cell_type": "markdown",
   "id": "40abfc73-d727-47d6-b653-e9df4577b681",
   "metadata": {},
   "source": [
    "## Part B - Invention activity (combining measurements) and notebook tutorial [0h10-0h55]"
   ]
  },
  {
   "cell_type": "markdown",
   "id": "8570e604-5f99-49c3-9227-ffbe4de77c09",
   "metadata": {},
   "source": [
    "***After we have our wrap-up discussion of the activity, take notes below on the new tool that you learned about in the invention (equation, why/when you would want to use it, etc).***"
   ]
  },
  {
   "cell_type": "markdown",
   "id": "94a6e77b-d3f3-4275-97c8-8c8427b41ea6",
   "metadata": {},
   "source": []
  },
  {
   "cell_type": "markdown",
   "id": "1b2a1ac4-eb72-4ee3-8604-7b386ffcc82b",
   "metadata": {
    "tags": []
   },
   "source": [
    "## Part C.1 - The experimental goal"
   ]
  },
  {
   "cell_type": "markdown",
   "id": "0a5cf71a-1e51-4119-9577-b5944c86924b",
   "metadata": {},
   "source": [
    "***What is the diameter of a human hair? Can I use multiple measurement methods to build confidence in my results?***"
   ]
  },
  {
   "cell_type": "markdown",
   "id": "b7cb0ff5-08cb-4ae8-b562-a2a4f3baa62a",
   "metadata": {},
   "source": []
  },
  {
   "cell_type": "markdown",
   "id": "85ae30fe-525d-46ab-8fb5-78e87d42fc8a",
   "metadata": {},
   "source": [
    "## Part C.2 - FAMILIARIZE (background theory) [0h55-1h00]"
   ]
  },
  {
   "cell_type": "markdown",
   "id": "c39b8b09-03ec-4636-be9b-1ef67f6aede6",
   "metadata": {},
   "source": [
    "***Write any notes from the background theory below that you may find helpful for your understanding***"
   ]
  },
  {
   "cell_type": "markdown",
   "id": "5f9fdcab-e80c-4368-96c4-2491913aa541",
   "metadata": {},
   "source": []
  },
  {
   "cell_type": "markdown",
   "id": "8876f4b9-a59f-46f4-9752-0020f0d05ae4",
   "metadata": {},
   "source": [
    "## Part C.3 - FAMILIARIZE (practice measurements and strategy) [1h00-1h10]"
   ]
  },
  {
   "cell_type": "markdown",
   "id": "7c95fd47-d3b8-44d8-8282-e8cde0410813",
   "metadata": {},
   "source": [
    "***Include some familiarization notes below from experimenting with the equipment (recall that you are just making observations, not recording data yet)***"
   ]
  },
  {
   "cell_type": "markdown",
   "id": "62fac724-c46c-4376-adf8-3c6012805fdc",
   "metadata": {},
   "source": []
  },
  {
   "cell_type": "markdown",
   "id": "3d2face2-3067-46ee-9e0e-c8c6dcfbc608",
   "metadata": {},
   "source": [
    "***Provide a brief description of your the measurement strategy you will be using based on your familiarization step above***"
   ]
  },
  {
   "cell_type": "markdown",
   "id": "e3382da8-76eb-4bc4-9d3c-cf34883b4621",
   "metadata": {},
   "source": []
  },
  {
   "cell_type": "markdown",
   "id": "ef7d945a-e745-49a3-9be6-1b0bec4f1884",
   "metadata": {},
   "source": [
    "## Part D - MEASURE & ANALYZE (Round 1) [1h10-1h20]"
   ]
  },
  {
   "cell_type": "markdown",
   "id": "fa48d0d1-dd61-48fd-bee5-635b2b014acf",
   "metadata": {},
   "source": [
    "***What did we do and why?\n",
    "What did we actually do and what happened?\n",
    "Why were specific choices made?***"
   ]
  },
  {
   "cell_type": "markdown",
   "id": "6df4a140-f927-4775-b1e3-0cd112e51b83",
   "metadata": {},
   "source": []
  },
  {
   "cell_type": "markdown",
   "id": "34fe6667-2f9a-439b-8ff6-1d5494531019",
   "metadata": {},
   "source": [
    "***Let's bring our prelab work directly into this notebook***\n",
    "\n",
    "* *In the first cell below, use sheet_copy to make a copy your prelab03_1.csv spreadsheet, which is possible because Lab03-prelab.ipynb and Lab03.ipynb share the same folder. We remind you again that the first time you use this function it copies the spreadsheet to a new name. If you run the cell again, it will just use the new spreadsheet and will not copy the old one again.*\n",
    "* *In the next cell below, copy the analysis code from prelab03 that you used to calculate a and u[a]. The best place to find this code is the code you provided for \"Your turn #7\".*\n",
    "* *Take one set of measurements (one row in your spreadsheet) and replace the values in row 0 with those. Run your analysis code to find a and u[a]*"
   ]
  },
  {
   "cell_type": "code",
   "execution_count": null,
   "id": "5767bc02-8d8d-4772-9683-fe1268f4ab01",
   "metadata": {},
   "outputs": [],
   "source": [
    "# Uncomment the sheet_copy line below (remove the leading \"#\") and then execute the cell to copy your\n",
    "# first prelab spreadsheet \"prelab03_1\" to a new spreadsheet \"lab03_1\" for this lab\n",
    "\n",
    "#de3 = data_entry.sheet_copy(\"prelab03_1\", \"lab03_1\")"
   ]
  },
  {
   "cell_type": "code",
   "execution_count": null,
   "id": "38c50bfa-c306-42d4-8c4d-4ba3e30795e0",
   "metadata": {},
   "outputs": [],
   "source": [
    "# Copy your analysis code for a and u[a] here from \"Your turn #7\" in your prelab03 notebook\n"
   ]
  },
  {
   "cell_type": "markdown",
   "id": "56bc1012-0712-415f-ad49-1b6096267c4b",
   "metadata": {},
   "source": [
    "***Details of the reference measurement using digital calipers***"
   ]
  },
  {
   "cell_type": "markdown",
   "id": "3b81348b-c5a8-4566-bb1e-1d0e8d63a9c3",
   "metadata": {},
   "source": [
    "Reference measuement notes go here"
   ]
  },
  {
   "cell_type": "code",
   "execution_count": null,
   "id": "aa64d905-e52c-4823-ba47-95f2188a7d58",
   "metadata": {},
   "outputs": [],
   "source": [
    "# You can use this cell to define values related to the reference measurement\n"
   ]
  },
  {
   "cell_type": "markdown",
   "id": "4410054e-ca8b-446b-bd80-92dc36d35157",
   "metadata": {},
   "source": [
    "## Part E - COMPARE, SUMMARIZE & REFLECT (Round 1) [1h20-1h35]"
   ]
  },
  {
   "cell_type": "markdown",
   "id": "9512f632-0191-419f-ba05-8635abb0e369",
   "metadata": {},
   "source": [
    "***What did we learn and what’s the evidence?\n",
    "What are our important numerical and/or comparison results?\n",
    "Do our results address the experimental goal? What’s the evidence?\n",
    "Do our results make sense?\n",
    "Is our result of high quality?***"
   ]
  },
  {
   "cell_type": "markdown",
   "id": "2e40e915-2e8c-4424-8061-dcfe8ebdcb2b",
   "metadata": {},
   "source": []
  },
  {
   "cell_type": "markdown",
   "id": "16a16cb1-87f5-4d8d-9aee-f0efe8fcf030",
   "metadata": {
    "tags": []
   },
   "source": [
    "## Part F - PLAN TO IMPROVE [1h35-1h40]"
   ]
  },
  {
   "cell_type": "markdown",
   "id": "5d1e3adc-7d27-4c33-859d-19e449843413",
   "metadata": {},
   "source": [
    "***What are we going to do next and why?\n",
    "How do we reduce our uncertainty?\n",
    "What else can we do to improve our results?\n",
    "Why are we choosing these improvements?***"
   ]
  },
  {
   "cell_type": "markdown",
   "id": "2f52a014-087c-4a99-b98f-ce026de5fd38",
   "metadata": {},
   "source": []
  },
  {
   "cell_type": "markdown",
   "id": "dc402f51-deba-4c6b-8839-8fb3ec751cb5",
   "metadata": {},
   "source": [
    "## Part G - MEASURE & ANALYZE (Round 2)"
   ]
  },
  {
   "cell_type": "markdown",
   "id": "208c4d2f-ddf7-4764-a117-cb61df3b73c7",
   "metadata": {},
   "source": [
    "*Make a copy of spreadsheet \"lab03_1\" from above and **add new rows below the existing data for your new data**. You can copy the analysis code to a new code cell below the new spreadsheet.*"
   ]
  },
  {
   "cell_type": "code",
   "execution_count": null,
   "id": "c605060b-4a8a-42d8-9b25-a771b68a680d",
   "metadata": {},
   "outputs": [],
   "source": [
    "# Uncomment the sheet_copy line below to copy your \"lab03_1\" spreadsheet\n",
    "\n",
    "#de4 = data_entry.sheet_copy(\"lab03_1\", \"lab03_2\")"
   ]
  },
  {
   "cell_type": "markdown",
   "id": "be293d8f-23ae-418a-bce2-0ada9cba5f18",
   "metadata": {},
   "source": [
    "## Part H - COMPARE, SUMMARIZE, REFLECT (Round 2)"
   ]
  },
  {
   "cell_type": "markdown",
   "id": "df53386e-a3e3-4cd6-ad2a-6caf7fd12724",
   "metadata": {},
   "source": []
  },
  {
   "cell_type": "markdown",
   "id": "eff71043-bae3-43cc-9645-e0f5ce079507",
   "metadata": {},
   "source": [
    "## Part I - CONTINUE TO INVESTIGATE (Rounds 3+ if you have time)"
   ]
  },
  {
   "cell_type": "markdown",
   "id": "000e29a5-765d-4cc3-892a-3f54e26c5697",
   "metadata": {},
   "source": []
  },
  {
   "cell_type": "markdown",
   "id": "f6d9cba2-5357-4c4e-82d1-0392c8b1817d",
   "metadata": {},
   "source": [
    "## Part J - Complete Summary of Results and submit [2h30-2h50]"
   ]
  },
  {
   "cell_type": "markdown",
   "id": "fcc4b644-2ad3-4900-ba03-44af9a11de69",
   "metadata": {},
   "source": [
    "***Tips:***\n",
    "- A brief summary of how your key results and the results of your comparisons evolved throughout the lab.\n",
    "- 1-2 sentences to describe and justify your major improvements and how they proved to be successful or unsuccessful. It may be helpful to use relative uncertainty to quantify your argument. \n",
    "- 1-2 sentences addressing the experimental goal and describing the conclusions you can make from the results of your comparisons. \n",
    "- 1 sentence containing your thoughts for further investigation. If you were to spend more time with this experiment, what would you plan to do next?"
   ]
  },
  {
   "cell_type": "markdown",
   "id": "9a84e73a-9c0b-4c6a-8511-1a9628c21d11",
   "metadata": {},
   "source": [
    "# Submission\n",
    "As we've done before: rerun your notebook, ensuring that all cells, especially the one below have executed successfully. Then export as HTML and \n",
    "submit to Canvas."
   ]
  },
  {
   "cell_type": "code",
   "execution_count": null,
   "id": "fcff73cb-0eeb-498e-ae6d-2a91194f7c39",
   "metadata": {},
   "outputs": [],
   "source": [
    "display_sheets()"
   ]
  }
 ],
 "metadata": {
  "kernelspec": {
   "display_name": "Python 3 (ipykernel)",
   "language": "python",
   "name": "python3"
  },
  "language_info": {
   "codemirror_mode": {
    "name": "ipython",
    "version": 3
   },
   "file_extension": ".py",
   "mimetype": "text/x-python",
   "name": "python",
   "nbconvert_exporter": "python",
   "pygments_lexer": "ipython3",
   "version": "3.10.5"
  },
  "widgets": {
   "application/vnd.jupyter.widget-state+json": {
    "state": {},
    "version_major": 2,
    "version_minor": 0
   }
  }
 },
 "nbformat": 4,
 "nbformat_minor": 5
}
