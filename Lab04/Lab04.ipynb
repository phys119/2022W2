{
 "cells": [
  {
   "cell_type": "markdown",
   "id": "10129cf0-f314-4d11-9b4a-e8580785b7bf",
   "metadata": {},
   "source": [
    " # Lab 4 - The Pendulum"
   ]
  },
  {
   "cell_type": "markdown",
   "id": "883c8daf-e901-4c0e-a0d7-d9c7dc0d6621",
   "metadata": {},
   "source": [
    "Edit this cell and provide the information requested:\n",
    "\n",
    "- Your name:\n",
    "- Your student number:\n",
    "- Partner's name:\n"
   ]
  },
  {
   "cell_type": "code",
   "execution_count": null,
   "id": "bb41a3e5-6dc2-4689-8f6b-c571553096ce",
   "metadata": {
    "colab": {
     "base_uri": "https://localhost:8080/",
     "height": 34,
     "referenced_widgets": [
      "f4867fcd1bc84f73a8ebaf6d3fe7f93a",
      "d034be63185d4811a05ec0f093d02d7a",
      "bd6d356d711e4792a1e9ada201d26b78",
      "c0d9513060084283a214f5c8f025ecf0",
      "da2defae0a8e4905a29dc8d3ca8a42e3",
      "60dc88a1698c461187c3481c679c7b71",
      "5f73d93446b34030af9201112526626f",
      "4d3b430ac5934818a7693c1a6a3d9355",
      "0bedf7f9be8a49378ea8f37f9c2ebf16",
      "ea117ac05b9b41c082cd9d62ef94d518",
      "124f9831f181482eb784405723a8b2d0",
      "8e1cbf36822a474ebdf82a80a5681924",
      "f8023654ea164371b4e3f37957a06c8a",
      "e1709bb85bb34c7e997f035a4c7560b8",
      "5a1355ddfd1840c2bc9de6ebd7342682",
      "624675d0d30242d6bf1213deb6e3f624",
      "699f933c64d24cafa5bfd5e0a1fc397a",
      "d58d95defca340b885a9e405134fc887",
      "58cf21d8ac234496bad2ebd7ae7f2a1d",
      "5e2883b7e2ba4d6d8a1352e621a8183f",
      "ffe3c8f2bda74603a92742464e69ba6b",
      "7ce01fb43382463f9ae0ad311d7b5dc4"
     ]
    },
    "id": "26726484-93c7-499a-9f34-d4656ef6df5a",
    "outputId": "82f6fee3-86ff-43e5-8b52-64b7eb4467ab"
   },
   "outputs": [],
   "source": [
    "# but leave these lines alone:\n",
    "import numpy as np\n",
    "import data_entry"
   ]
  },
  {
   "cell_type": "markdown",
   "id": "6bc2f65e-1838-4b3d-adcd-a78a7f7b17e8",
   "metadata": {},
   "source": [
    "## Part A - Intro and announcements"
   ]
  },
  {
   "cell_type": "markdown",
   "id": "658cad60-0137-47fd-9a6e-2bdfccbacfae",
   "metadata": {},
   "source": [
    "***TA grading feedback here:***\n",
    "- example feedback"
   ]
  },
  {
   "cell_type": "markdown",
   "id": "0bf9f813-2fb3-46e1-a83e-df454787d388",
   "metadata": {},
   "source": [
    "## Part B - Start of familiarization"
   ]
  },
  {
   "cell_type": "markdown",
   "id": "603c4e3a-29a1-40ba-a8df-12eada3ba547",
   "metadata": {},
   "source": [
    "***Discuss the experimental goal and familiarization done in Part B of the student instructions***"
   ]
  },
  {
   "cell_type": "markdown",
   "id": "d1142b9a-ec95-432c-bc05-c24548806d53",
   "metadata": {},
   "source": []
  },
  {
   "cell_type": "markdown",
   "id": "b481304a-5188-4fbd-a395-0d9edbf26080",
   "metadata": {},
   "source": [
    "## Part C - Class Discussion of prelab data and measurement design (more familiarization)"
   ]
  },
  {
   "cell_type": "markdown",
   "id": "6e89245b-c391-4a95-88bb-02b83170ca3d",
   "metadata": {},
   "source": [
    "***Summarize any important notes from the class discussion and familiarization done in Part C of the student instructions***"
   ]
  },
  {
   "cell_type": "markdown",
   "id": "9e18d4c5-9dab-4ea5-afe6-311b45f3f7f4",
   "metadata": {},
   "source": []
  },
  {
   "cell_type": "markdown",
   "id": "83d33fcb-6d91-4c37-998b-173e9fb0f65d",
   "metadata": {},
   "source": [
    "## Part D - Your First Round of Measurements (7 minutes of data collection per angle)"
   ]
  },
  {
   "cell_type": "markdown",
   "id": "039d956c-b989-42e9-8367-d218de62679f",
   "metadata": {},
   "source": [
    "***Write some notes below detailing your initial measurement plan***"
   ]
  },
  {
   "cell_type": "markdown",
   "id": "4ce31b01-2acc-4cbd-a949-90cd8c8ca07e",
   "metadata": {},
   "source": []
  },
  {
   "cell_type": "markdown",
   "id": "16101424-86fd-4261-b9f7-4a9cd732e340",
   "metadata": {},
   "source": [
    "*Use the 'data_entry' library to load in a blank spreadsheet below to fill in with your initial round of data. Look back to Lab 02 for help if you forget how to do this!*"
   ]
  },
  {
   "cell_type": "code",
   "execution_count": null,
   "id": "11fcd5cf-3996-4878-9a64-70417859e239",
   "metadata": {},
   "outputs": [],
   "source": []
  },
  {
   "cell_type": "markdown",
   "id": "45ae3def-3190-4cab-a047-cdff4faa4237",
   "metadata": {},
   "source": [
    "***Reflect on the results of your first round below***"
   ]
  },
  {
   "cell_type": "markdown",
   "id": "2b0b3691-029f-4909-8fd4-eadb93e5a0fa",
   "metadata": {},
   "source": []
  },
  {
   "cell_type": "markdown",
   "id": "7ee49d8e-0841-4224-8bcd-d11a8607bf94",
   "metadata": {},
   "source": [
    "## Part E - SECOND ROUND (10 minutes of data collection per angle)"
   ]
  },
  {
   "cell_type": "markdown",
   "id": "2f27654a-0070-4b0b-90fb-f0d9f5e22b0f",
   "metadata": {},
   "source": [
    "***Iterative cycles of improvements: detail what you are doing for improvements and why.***"
   ]
  },
  {
   "cell_type": "markdown",
   "id": "33530a4f-c796-47bc-af79-ce4dd13ccaf5",
   "metadata": {},
   "source": []
  },
  {
   "cell_type": "markdown",
   "id": "2241b0cf-c870-4676-b073-de0134a5b76c",
   "metadata": {},
   "source": [
    "*Use the 'data_entry' library to copy your spreadsheet from round 1, then replace the existing data with the new data from this second round. Again, look back to Lab 02 for help if you forget how to do this!* There are two 'names' associated with each spreadsheet: one is the file name of the csv file where the data is stored, the other is the name of the variable (eg de, de2 etc) which holds the sheet within python. Make sure that both of these are different for the new sheet."
   ]
  },
  {
   "cell_type": "code",
   "execution_count": null,
   "id": "0bd5f1e5-f31c-4951-ba19-2f628b224205",
   "metadata": {},
   "outputs": [],
   "source": []
  },
  {
   "cell_type": "markdown",
   "id": "7788db13-f123-40f7-96c7-8b5fa87c6d87",
   "metadata": {},
   "source": [
    "***Reflect on the results of your second round below***"
   ]
  },
  {
   "cell_type": "markdown",
   "id": "5b0b7e75-d78f-4d71-afc8-470742aa0173",
   "metadata": {},
   "source": []
  },
  {
   "cell_type": "markdown",
   "id": "0d1eb79c-639e-4814-81d4-99ecfddfbede",
   "metadata": {},
   "source": [
    "## Part F - THIRD ROUND (10+ minutes of data collection per angle)"
   ]
  },
  {
   "cell_type": "markdown",
   "id": "430a0295-d6b1-4a5a-a677-08f7536d864d",
   "metadata": {},
   "source": [
    "***Using Part E as a template, perform another round of improvements***"
   ]
  },
  {
   "cell_type": "markdown",
   "id": "db46002d-5862-46e0-a8fa-39cbbd250536",
   "metadata": {},
   "source": []
  },
  {
   "cell_type": "markdown",
   "id": "4039d10b-7b5f-47a5-ad49-8ddcd0461f6b",
   "metadata": {},
   "source": []
  },
  {
   "cell_type": "markdown",
   "id": "7df7ff5a-0df9-4085-a91e-6d98e4b8d5be",
   "metadata": {},
   "source": [
    "## Part G - COMPLETE YOUR SUMMARY OF RESULTS AND SUBMIT"
   ]
  },
  {
   "cell_type": "markdown",
   "id": "8778f9ab-d956-4dfa-9319-daa7fa4611ea",
   "metadata": {},
   "source": [
    "***Tips:***\n",
    "- A brief summary of your key results and key comparisons in 1-2 sentences.\n",
    "- 1-2 sentences to describe and justify your major improvements and how they proved to be successful or unsuccessful. It may be helpful to use relative uncertainty to quantify your argument. \n",
    "- 1-2 sentences addressing the experimental goal and describing the conclusions you can make from the results of your comparisons. \n",
    "- 1 sentence containing your thoughts for further investigation. If you were to spend more time with this experiment, what would you plan to do next?"
   ]
  },
  {
   "cell_type": "markdown",
   "id": "818f2cae-2811-4d42-8a06-9a1ba2a26da1",
   "metadata": {},
   "source": [
    "# Submission\n",
    "As we've done before: rerun your notebook, ensuring that all cells, especially the one below have executed successfully. Then export as HTML and \n",
    "submit to Canvas."
   ]
  },
  {
   "cell_type": "code",
   "execution_count": null,
   "id": "645481c6-3c5c-4813-80a3-7a242297fbba",
   "metadata": {},
   "outputs": [],
   "source": [
    "# trick to display tables in html output\n",
    "display_sheets()"
   ]
  }
 ],
 "metadata": {
  "kernelspec": {
   "display_name": "Python 3 (ipykernel)",
   "language": "python",
   "name": "python3"
  },
  "language_info": {
   "codemirror_mode": {
    "name": "ipython",
    "version": 3
   },
   "file_extension": ".py",
   "mimetype": "text/x-python",
   "name": "python",
   "nbconvert_exporter": "python",
   "pygments_lexer": "ipython3",
   "version": "3.9.13"
  },
  "widgets": {
   "application/vnd.jupyter.widget-state+json": {
    "state": {},
    "version_major": 2,
    "version_minor": 0
   }
  }
 },
 "nbformat": 4,
 "nbformat_minor": 5
}
