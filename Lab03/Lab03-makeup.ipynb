{
 "cells": [
  {
   "cell_type": "markdown",
   "id": "56f42178-9a69-488d-b8f4-cd63984ccc1d",
   "metadata": {},
   "source": [
    "# Lab 03 - Single-Slit Diffraction (Make-Up Version)"
   ]
  },
  {
   "cell_type": "code",
   "execution_count": null,
   "id": "c299c7fb-5aee-492f-90a7-e930a762dd84",
   "metadata": {
    "tags": []
   },
   "outputs": [],
   "source": [
    "# Make sure to run this cell before running any other code cells\n",
    "import numpy as np\n",
    "import data_entry"
   ]
  },
  {
   "cell_type": "markdown",
   "id": "136794dc-09f0-4297-b70e-6743a24c909b",
   "metadata": {},
   "source": [
    "**Edit this cell and provide the information requested:***\n",
    "\n",
    "- Your name:\n",
    "- Your student number:\n"
   ]
  },
  {
   "cell_type": "markdown",
   "id": "457d1616-29cc-434b-8d21-509d67d4d5b9",
   "metadata": {
    "tags": []
   },
   "source": [
    "## Part A - Review of Lab 02"
   ]
  },
  {
   "cell_type": "markdown",
   "id": "ae63767a-6cf0-4b33-9ded-6340a5feba25",
   "metadata": {},
   "source": [
    "- Example notes"
   ]
  },
  {
   "cell_type": "markdown",
   "id": "40abfc73-d727-47d6-b653-e9df4577b681",
   "metadata": {},
   "source": [
    "## Part B - Learning a new statistics tool for combining measurements that have different uncertainties"
   ]
  },
  {
   "cell_type": "markdown",
   "id": "8570e604-5f99-49c3-9227-ffbe4de77c09",
   "metadata": {},
   "source": [
    "***As you watch the invention activity video, take notes below on the new tool that you learned about in the invention (equation, why/when you would want to use it, etc).***"
   ]
  },
  {
   "cell_type": "markdown",
   "id": "94a6e77b-d3f3-4275-97c8-8c8427b41ea6",
   "metadata": {},
   "source": []
  },
  {
   "cell_type": "markdown",
   "id": "1b2a1ac4-eb72-4ee3-8604-7b386ffcc82b",
   "metadata": {
    "tags": []
   },
   "source": [
    "## Part C - Reflection on your prelab results and starting the familiarization step"
   ]
  },
  {
   "cell_type": "markdown",
   "id": "0a5cf71a-1e51-4119-9577-b5944c86924b",
   "metadata": {},
   "source": [
    "***Using the guiding questions in the make-up lab instructions, write down some notes from your familiarization step.***"
   ]
  },
  {
   "cell_type": "markdown",
   "id": "b7cb0ff5-08cb-4ae8-b562-a2a4f3baa62a",
   "metadata": {},
   "source": []
  },
  {
   "cell_type": "markdown",
   "id": "85ae30fe-525d-46ab-8fb5-78e87d42fc8a",
   "metadata": {},
   "source": [
    "## Part D - Initial Measurement of diameter of hair 1 and hair 2"
   ]
  },
  {
   "cell_type": "markdown",
   "id": "c39b8b09-03ec-4636-be9b-1ef67f6aede6",
   "metadata": {},
   "source": [
    "***Write any notes from the background theory below that you may find helpful for your understanding***"
   ]
  },
  {
   "cell_type": "markdown",
   "id": "5f9fdcab-e80c-4368-96c4-2491913aa541",
   "metadata": {},
   "source": []
  },
  {
   "cell_type": "markdown",
   "id": "3d2face2-3067-46ee-9e0e-c8c6dcfbc608",
   "metadata": {},
   "source": [
    "***Describe your first measurement strategy based on your familiarization step above***"
   ]
  },
  {
   "cell_type": "markdown",
   "id": "e3382da8-76eb-4bc4-9d3c-cf34883b4621",
   "metadata": {},
   "source": []
  },
  {
   "cell_type": "markdown",
   "id": "ef7d945a-e745-49a3-9be6-1b0bec4f1884",
   "metadata": {},
   "source": [
    "## Part D - MEASURE & ANALYZE (Round 1, ~30 minutes) "
   ]
  },
  {
   "cell_type": "markdown",
   "id": "fa48d0d1-dd61-48fd-bee5-635b2b014acf",
   "metadata": {},
   "source": [
    "***What did we do and why?\n",
    "What did we actually do and what happened?\n",
    "Why were specific choices made?***"
   ]
  },
  {
   "cell_type": "markdown",
   "id": "6df4a140-f927-4775-b1e3-0cd112e51b83",
   "metadata": {},
   "source": []
  },
  {
   "cell_type": "markdown",
   "id": "5da404ee-0f31-478a-8613-dee9cb0978d7",
   "metadata": {},
   "source": [
    "*Load in a blank spreadsheet below to hold your data, using the table below as suggested column headings. Note that this spreadsheet is slightly different than your pre-lab spreadsheet as the original `y` and `u[y]` columns are now `y1`, `u[y1]`, `y2` and `u[y2]`, because you are going to be making measurements on two different hairs. For this first round of data collection, you should pick one value for $p$ and one value for $L$ that you will use for your measurement of $y$ for each hair. Thus $y1$ and $u[y1]$, refer to the y distance that you measure for hair 1 with your chosen value of $p$ and your chosen value of $L$. And then $y2$ and $u[y2]$, refer to the y distance that you measure for hair 2 using these same $p$ and $L$ values you used for hair 1. You are collecting only one row of data in this first round.*\n",
    "\n",
    "| p    | L | u[L] | y1 | u[y1] | y2 | u[y2] | lambda | $ notes |\n",
    "|:----:|:-:|:----:|:-:|:----:|:------:|:----:|:------:|:----:|\n",
    "| null | m | m    | m | m    | m | m    | m      |      |"
   ]
  },
  {
   "cell_type": "code",
   "execution_count": null,
   "id": "5767bc02-8d8d-4772-9683-fe1268f4ab01",
   "metadata": {},
   "outputs": [],
   "source": [
    "# Run me to create a new spreadsheet, autosaved as lab03_1.csv\n",
    "de = data_entry.sheet(\"lab03_1\")"
   ]
  },
  {
   "cell_type": "code",
   "execution_count": 1,
   "id": "8f11dfeb-5c0e-4601-97e7-5ccd1cc529a3",
   "metadata": {},
   "outputs": [],
   "source": [
    "# Copy your analysis code for a and u[a] here from \"Your turn #7\" in your prelab03 notebook\n",
    "# (You will need to copy this code twice, once to calculate a1 values using y1 values\n",
    "#  and once to calculate a2 values using y2 values)\n",
    "\n"
   ]
  },
  {
   "cell_type": "markdown",
   "id": "4410054e-ca8b-446b-bd80-92dc36d35157",
   "metadata": {},
   "source": [
    "## Part E - COMPARE, SUMMARIZE & REFLECT (Round 1)"
   ]
  },
  {
   "cell_type": "code",
   "execution_count": 2,
   "id": "5e784aa5-fbb4-48f0-8802-b0ec633036c0",
   "metadata": {},
   "outputs": [],
   "source": [
    "# Use this cell to do your comparison calculation\n",
    "\n"
   ]
  },
  {
   "cell_type": "markdown",
   "id": "9512f632-0191-419f-ba05-8635abb0e369",
   "metadata": {},
   "source": [
    "***Do our results make sense?\n",
    "Is our result of high quality?\n",
    "Compare the relative uncertainty with your pre-lab results. Improved?***"
   ]
  },
  {
   "cell_type": "markdown",
   "id": "2e40e915-2e8c-4424-8061-dcfe8ebdcb2b",
   "metadata": {},
   "source": []
  },
  {
   "cell_type": "markdown",
   "id": "16a16cb1-87f5-4d8d-9aee-f0efe8fcf030",
   "metadata": {
    "tags": []
   },
   "source": [
    "## Part F - PLAN TO IMPROVE"
   ]
  },
  {
   "cell_type": "markdown",
   "id": "5d1e3adc-7d27-4c33-859d-19e449843413",
   "metadata": {},
   "source": [
    "***What are we going to do next and why?\n",
    "How do we reduce our uncertainty?\n",
    "What else can we do to improve our results?\n",
    "Why are we choosing these improvements?***"
   ]
  },
  {
   "cell_type": "markdown",
   "id": "2f52a014-087c-4a99-b98f-ce026de5fd38",
   "metadata": {},
   "source": []
  },
  {
   "cell_type": "markdown",
   "id": "dc402f51-deba-4c6b-8839-8fb3ec751cb5",
   "metadata": {},
   "source": [
    "## Part G - MEASURE & ANALYZE (Round 2, ~60 minutes)"
   ]
  },
  {
   "cell_type": "markdown",
   "id": "208c4d2f-ddf7-4764-a117-cb61df3b73c7",
   "metadata": {},
   "source": [
    "*Make a copy of spreadsheet \"lab03_1\" from above and **add new rows below the existing data for your new data**. You can copy the analysis code to a new code cell below the new spreadsheet.*"
   ]
  },
  {
   "cell_type": "code",
   "execution_count": null,
   "id": "c605060b-4a8a-42d8-9b25-a771b68a680d",
   "metadata": {},
   "outputs": [],
   "source": [
    "# Uncomment the sheet_copy line below to copy your \"lab03_1\" spreadsheet\n",
    "\n",
    "#de2 = data_entry.sheet_copy(\"lab03_1\", \"lab03_2\")"
   ]
  },
  {
   "cell_type": "code",
   "execution_count": 3,
   "id": "5b7fba9d-f45e-4e77-989b-d55261e48faa",
   "metadata": {},
   "outputs": [],
   "source": [
    "# Copy your previous analysis code here\n",
    "\n"
   ]
  },
  {
   "cell_type": "markdown",
   "id": "27b7deae-9539-4b7b-acda-54ef5667996d",
   "metadata": {},
   "source": [
    "***Add any additional notes or discussion here:***\n",
    "\n",
    "Example notes"
   ]
  },
  {
   "cell_type": "markdown",
   "id": "be293d8f-23ae-418a-bce2-0ada9cba5f18",
   "metadata": {},
   "source": [
    "## Part H - COMPARE, SUMMARIZE, REFLECT (Round 2)"
   ]
  },
  {
   "cell_type": "code",
   "execution_count": null,
   "id": "ac1361dd-c605-47ef-8927-835829d5f4c0",
   "metadata": {},
   "outputs": [],
   "source": [
    "# Use this cell to combine your laser-based measurements\n",
    "\n"
   ]
  },
  {
   "cell_type": "code",
   "execution_count": null,
   "id": "414ab09f-9770-4789-9303-539b1ff6aca4",
   "metadata": {},
   "outputs": [],
   "source": [
    "# Use this cell to compare your combined laser-based measurements to the earlier calipers measurement\n",
    "\n"
   ]
  },
  {
   "cell_type": "markdown",
   "id": "df53386e-a3e3-4cd6-ad2a-6caf7fd12724",
   "metadata": {},
   "source": [
    "***Add relevant discussion here:***\n",
    "\n",
    "Example notes"
   ]
  },
  {
   "cell_type": "markdown",
   "id": "eff71043-bae3-43cc-9645-e0f5ce079507",
   "metadata": {},
   "source": [
    "## Part I - CONTINUE TO INVESTIGATE (Rounds 3+ if you have time)"
   ]
  },
  {
   "cell_type": "markdown",
   "id": "000e29a5-765d-4cc3-892a-3f54e26c5697",
   "metadata": {},
   "source": []
  },
  {
   "cell_type": "markdown",
   "id": "f6d9cba2-5357-4c4e-82d1-0392c8b1817d",
   "metadata": {},
   "source": [
    "## Part J - Complete Summary of Results"
   ]
  },
  {
   "cell_type": "markdown",
   "id": "fcc4b644-2ad3-4900-ba03-44af9a11de69",
   "metadata": {},
   "source": [
    "***Tips:***\n",
    "- A brief summary of how your key results and the results of your comparisons evolved throughout the lab.\n",
    "- 1-2 sentences to describe and justify your major improvements and how they proved to be successful or unsuccessful. It may be helpful to use relative uncertainty to quantify your argument. \n",
    "- 1-2 sentences addressing the experimental goal and describing the conclusions you can make from the results of your comparisons. \n",
    "- 1 sentence containing your thoughts for further investigation. If you were to spend more time with this experiment, what would you plan to do next?"
   ]
  },
  {
   "cell_type": "markdown",
   "id": "bce92628-4567-4867-9c51-b259efbe5f89",
   "metadata": {},
   "source": [
    "# Submission\n",
    "\n",
    "\n",
    "Do the same sequence of operations we've done before to turn in this notebook: Restart the kernel and re-rerun all cells, check that everything executed successfully (especially the last cell below), then download an exported HTML version, and finally submit that HTML version to Canvas."
   ]
  },
  {
   "cell_type": "code",
   "execution_count": null,
   "id": "5c2120d0-9262-465e-964c-23acfcdabe96",
   "metadata": {},
   "outputs": [],
   "source": [
    "# Displays data tables in html output\n",
    "display_sheets()"
   ]
  }
 ],
 "metadata": {
  "kernelspec": {
   "display_name": "Python 3 (ipykernel)",
   "language": "python",
   "name": "python3"
  },
  "language_info": {
   "codemirror_mode": {
    "name": "ipython",
    "version": 3
   },
   "file_extension": ".py",
   "mimetype": "text/x-python",
   "name": "python",
   "nbconvert_exporter": "python",
   "pygments_lexer": "ipython3",
   "version": "3.10.5"
  },
  "widgets": {
   "application/vnd.jupyter.widget-state+json": {
    "state": {},
    "version_major": 2,
    "version_minor": 0
   }
  }
 },
 "nbformat": 4,
 "nbformat_minor": 5
}
